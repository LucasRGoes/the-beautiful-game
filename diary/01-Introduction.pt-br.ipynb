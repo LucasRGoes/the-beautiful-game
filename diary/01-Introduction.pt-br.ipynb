{
 "cells": [
  {
   "cell_type": "markdown",
   "metadata": {},
   "source": [
    "Introdução\n",
    "==========\n",
    "\n",
    "Nesta primeira etapa detalho como o projeto será organizado e quais as etapas para que ele seja concluído. Além disso, busco esboçar alguns dos eventos mais importantes com relação as partes envolvidas no mundo do futebol, os jogadores, técnicos e times."
   ]
  },
  {
   "cell_type": "markdown",
   "metadata": {},
   "source": [
    "## 1. Organização\n",
    "\n"
   ]
  }
 ],
 "metadata": {
  "kernelspec": {
   "display_name": "Python 3",
   "language": "python",
   "name": "python3"
  },
  "language_info": {
   "codemirror_mode": {
    "name": "ipython",
    "version": 3
   },
   "file_extension": ".py",
   "mimetype": "text/x-python",
   "name": "python",
   "nbconvert_exporter": "python",
   "pygments_lexer": "ipython3",
   "version": "3.6.9"
  }
 },
 "nbformat": 4,
 "nbformat_minor": 4
}
